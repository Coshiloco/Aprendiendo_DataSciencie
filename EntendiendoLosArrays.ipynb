{
  "nbformat": 4,
  "nbformat_minor": 0,
  "metadata": {
    "colab": {
      "provenance": []
    },
    "kernelspec": {
      "name": "python3",
      "display_name": "Python 3"
    },
    "language_info": {
      "name": "python"
    }
  },
  "cells": [
    {
      "cell_type": "markdown",
      "source": [
        "# Teroria De los Numpy Arrays \n"
      ],
      "metadata": {
        "id": "iMFz-k4IfhVB"
      }
    },
    {
      "cell_type": "markdown",
      "source": [
        "Los numpy Arrays por otro lado permiten la habilidad de hacer operaciones matriciales que no son nada mas que la habilidad de operar cada elemento de un array por cada elemento de otro array.\n",
        "\n",
        "Esencial para entrenar modelos de machine larning o redes neuronales \n"
      ],
      "metadata": {
        "id": "lux1SJuHfy_N"
      }
    },
    {
      "cell_type": "markdown",
      "source": [
        "Los numpy Arrays son del orden de 30 veces mas rapidos que un array normal pero en consecuancia y como contrapunto para que esto sea asi son homogeneos es decir estos deben de contener tan solo un mismo tipo de dato "
      ],
      "metadata": {
        "id": "Lvwdw3YUfmpg"
      }
    },
    {
      "cell_type": "markdown",
      "source": [
        "# Utilizacion de Numpy en Python "
      ],
      "metadata": {
        "id": "5WCZCDpNhM32"
      }
    },
    {
      "cell_type": "code",
      "source": [
        "# Para utilizar la libreria de Numpy tan solo tenemos que importarla por convencio se le llama np\n",
        "import numpy as np"
      ],
      "metadata": {
        "id": "SPrFLYKkhVns"
      },
      "execution_count": null,
      "outputs": []
    },
    {
      "cell_type": "code",
      "source": [
        "#Para realizar la raiz cuadrada de un numero funcion sqrt\n",
        "np.sqrt(56)"
      ],
      "metadata": {
        "colab": {
          "base_uri": "https://localhost:8080/"
        },
        "id": "NHmVzfRNhqFx",
        "outputId": "79223ab2-c39d-41cb-bbf5-8116c9d68e31"
      },
      "execution_count": null,
      "outputs": [
        {
          "output_type": "execute_result",
          "data": {
            "text/plain": [
              "7.483314773547883"
            ]
          },
          "metadata": {},
          "execution_count": 2
        }
      ]
    },
    {
      "cell_type": "markdown",
      "source": [
        "# Construyendo Numoy Arrays"
      ],
      "metadata": {
        "id": "7yb2T1_eiJTq"
      }
    },
    {
      "cell_type": "markdown",
      "source": [
        "## 1. Arrays\n"
      ],
      "metadata": {
        "id": "gGcpQMNtiRpw"
      }
    },
    {
      "cell_type": "markdown",
      "source": [
        "### Primera forma de construccion con np.array()"
      ],
      "metadata": {
        "id": "dnoWwqt5i9Yw"
      }
    },
    {
      "cell_type": "code",
      "source": [
        "# Por ejemplo una lista normal en Python \n",
        "a = [0,1,2,3,4,5,6]\n",
        "\n",
        "type(a)"
      ],
      "metadata": {
        "colab": {
          "base_uri": "https://localhost:8080/"
        },
        "id": "wqu7nykvjDML",
        "outputId": "31d70411-d595-404e-e76d-33ce27964a1e"
      },
      "execution_count": null,
      "outputs": [
        {
          "output_type": "execute_result",
          "data": {
            "text/plain": [
              "list"
            ]
          },
          "metadata": {},
          "execution_count": 3
        }
      ]
    },
    {
      "cell_type": "code",
      "source": [
        "# Con la funcion np.array() transformamos esa lista de Python en un numpy array de la siguiente forma \n",
        "print(np.array(a))\n",
        "\n",
        "type(np.array(a))"
      ],
      "metadata": {
        "colab": {
          "base_uri": "https://localhost:8080/"
        },
        "id": "S76CcIx3jSxp",
        "outputId": "293efdfb-2734-4b9f-ed77-12a0f49f421a"
      },
      "execution_count": null,
      "outputs": [
        {
          "output_type": "stream",
          "name": "stdout",
          "text": [
            "[0 1 2 3 4 5 6]\n"
          ]
        },
        {
          "output_type": "execute_result",
          "data": {
            "text/plain": [
              "numpy.ndarray"
            ]
          },
          "metadata": {},
          "execution_count": 6
        }
      ]
    },
    {
      "cell_type": "markdown",
      "source": [
        "### 1.2 Segunda forma con la funcion np.arange()"
      ],
      "metadata": {
        "id": "TMrf83V5j1XW"
      }
    },
    {
      "cell_type": "code",
      "source": [
        "# COn esta funcion obtenemos un rango de numeros del primer al segundo parametro y el tercer parametro es el salto que da esa progresion \n",
        "# El primer parametro es inclusivo mientras que el segundo parametro es exclusivo \n",
        "b = np.arange(4, 24, 2)\n",
        "\n",
        "print(b)"
      ],
      "metadata": {
        "colab": {
          "base_uri": "https://localhost:8080/"
        },
        "id": "iF91jcxpj7FF",
        "outputId": "a7ecb41b-d226-43c2-9e4d-066da6deb4e2"
      },
      "execution_count": null,
      "outputs": [
        {
          "output_type": "stream",
          "name": "stdout",
          "text": [
            "[ 4  6  8 10 12 14 16 18 20 22]\n"
          ]
        }
      ]
    },
    {
      "cell_type": "markdown",
      "source": [
        "### 1.3 np.linspace()"
      ],
      "metadata": {
        "id": "9pOm3O6xk-Fe"
      }
    },
    {
      "cell_type": "code",
      "source": [
        "# Esta funcion recibe dos parametros esos dos parametros va a generar numeros con la misma progresion entre esos dos numeros los dos parametros son inclusivos pero tienen la misma progresion \n",
        "# o La misma linealidad peor la diferencia esque va generar la misma distancia entre los numeros que se encuentren entre estos dos parametros incluidos es decir si tenemos del 1 al 50\n",
        "# Generara un array con todos los numeros del 1 al 50 ambos inckusivos pero la progresion entre estos dos sera equivalente es decir el 1, 2 asi y esto se modificara dependiendo de los dos parametros \n",
        "# que le pasemos \n",
        "\n",
        "c = np.linspace(1, 50)\n",
        "\n",
        "print(c)\n",
        "\n",
        "# Por ejemplo si le digo del 1 al 40 me generara 40 numeros con los mismos espacios del 1 al 40\n",
        "\n",
        "d = np.linspace(1, 40)\n",
        "\n",
        "\n",
        "print(d)\n",
        "\n",
        "'''admite tambien un tercer parametro que va a ser la cantidad de numeros que nos va a generar en ese intervalo\n",
        "pero con la peculiaridad de que las distancias equivalentes se van a respetar '''\n",
        "\n",
        "e = np.linspace(1, 244, 5)\n",
        "\n",
        "print(e)"
      ],
      "metadata": {
        "colab": {
          "base_uri": "https://localhost:8080/"
        },
        "id": "cgsJhLcUlEiy",
        "outputId": "f41dd6b3-e632-4c21-c4b1-4a8fe5023fc8"
      },
      "execution_count": null,
      "outputs": [
        {
          "output_type": "stream",
          "name": "stdout",
          "text": [
            "[ 1.  2.  3.  4.  5.  6.  7.  8.  9. 10. 11. 12. 13. 14. 15. 16. 17. 18.\n",
            " 19. 20. 21. 22. 23. 24. 25. 26. 27. 28. 29. 30. 31. 32. 33. 34. 35. 36.\n",
            " 37. 38. 39. 40. 41. 42. 43. 44. 45. 46. 47. 48. 49. 50.]\n",
            "[ 1.          1.79591837  2.59183673  3.3877551   4.18367347  4.97959184\n",
            "  5.7755102   6.57142857  7.36734694  8.16326531  8.95918367  9.75510204\n",
            " 10.55102041 11.34693878 12.14285714 12.93877551 13.73469388 14.53061224\n",
            " 15.32653061 16.12244898 16.91836735 17.71428571 18.51020408 19.30612245\n",
            " 20.10204082 20.89795918 21.69387755 22.48979592 23.28571429 24.08163265\n",
            " 24.87755102 25.67346939 26.46938776 27.26530612 28.06122449 28.85714286\n",
            " 29.65306122 30.44897959 31.24489796 32.04081633 32.83673469 33.63265306\n",
            " 34.42857143 35.2244898  36.02040816 36.81632653 37.6122449  38.40816327\n",
            " 39.20408163 40.        ]\n",
            "[  1.    61.75 122.5  183.25 244.  ]\n"
          ]
        }
      ]
    },
    {
      "cell_type": "markdown",
      "source": [
        "### 1.4 np.zeros()"
      ],
      "metadata": {
        "id": "krz5UKZynBIO"
      }
    },
    {
      "cell_type": "code",
      "source": [
        "# Va a generar un array con la longitud que nosotros le especifiquemos con todo zeros \n",
        "\n",
        "f = np.zeros(50)\n",
        "\n",
        "# Nos generara un array con una longitud de 50 elementos toda llena de Zeros \n",
        "\n",
        "f"
      ],
      "metadata": {
        "colab": {
          "base_uri": "https://localhost:8080/"
        },
        "id": "KVI77ud2nFTQ",
        "outputId": "c2701fcd-1b3b-47ad-8125-435eedecad3e"
      },
      "execution_count": null,
      "outputs": [
        {
          "output_type": "execute_result",
          "data": {
            "text/plain": [
              "array([0., 0., 0., 0., 0., 0., 0., 0., 0., 0., 0., 0., 0., 0., 0., 0., 0.,\n",
              "       0., 0., 0., 0., 0., 0., 0., 0., 0., 0., 0., 0., 0., 0., 0., 0., 0.,\n",
              "       0., 0., 0., 0., 0., 0., 0., 0., 0., 0., 0., 0., 0., 0., 0., 0.])"
            ]
          },
          "metadata": {},
          "execution_count": 13
        }
      ]
    },
    {
      "cell_type": "markdown",
      "source": [
        "### 1.5 np.ones()"
      ],
      "metadata": {
        "id": "Ew6MjI4cnzE4"
      }
    },
    {
      "cell_type": "code",
      "source": [
        "# Va a generar un array con la longitud que nosotros le especifiquemos con todo Unos \n",
        "\n",
        "unesimos = np.ones(50)\n",
        "\n",
        "# Nos va agenerar un array de 50 elementos con todod unos unos \n",
        "\n",
        "unesimos "
      ],
      "metadata": {
        "colab": {
          "base_uri": "https://localhost:8080/"
        },
        "id": "pNlmqv2sn3wN",
        "outputId": "0d601111-ddb1-43fe-9d4a-cc82b06094de"
      },
      "execution_count": null,
      "outputs": [
        {
          "output_type": "execute_result",
          "data": {
            "text/plain": [
              "array([1., 1., 1., 1., 1., 1., 1., 1., 1., 1., 1., 1., 1., 1., 1., 1., 1.,\n",
              "       1., 1., 1., 1., 1., 1., 1., 1., 1., 1., 1., 1., 1., 1., 1., 1., 1.,\n",
              "       1., 1., 1., 1., 1., 1., 1., 1., 1., 1., 1., 1., 1., 1., 1., 1.])"
            ]
          },
          "metadata": {},
          "execution_count": 14
        }
      ]
    },
    {
      "cell_type": "markdown",
      "source": [
        "## 2. Dimensiones de los Numpy Arrays "
      ],
      "metadata": {
        "id": "RuSbhZP6piKN"
      }
    },
    {
      "cell_type": "code",
      "source": [
        "# Vamos a empezar por crear un array multidimensional es decir Dos dimensiones con la funcion np.array() de 0 y 1 que son los que hemos generado antes con la funciones respectivas \n",
        "# Que son np.zeros() y np.ones()\n",
        "\n",
        "# Por tanto \n",
        "\n",
        "print(f\"El numero de elementos del array de 0 es :  {len(f)}\")\n",
        "print(f\"El numero de elementos del array de 1 es :  {len(unesimos)}\")\n",
        "\n",
        "\n",
        "\n",
        "array2d = np.array([f, unesimos])\n",
        "\n",
        "print(array2d)\n",
        "\n",
        "'''Por tanto nos damos cuenta de que nos ha generado dos arrays dentro de un array por tanto tenemos un array \n",
        "dentro de este tenemos el primer array de 0 con los 50 elementos y posteriormente como segundo elemento del array \n",
        "original es otro array con un 50 elementos que contiene 1'''"
      ],
      "metadata": {
        "colab": {
          "base_uri": "https://localhost:8080/",
          "height": 174
        },
        "id": "CBoXxG3gpmhm",
        "outputId": "41f484a1-b12f-4620-e2ea-ef89446e0e80"
      },
      "execution_count": null,
      "outputs": [
        {
          "output_type": "stream",
          "name": "stdout",
          "text": [
            "El numero de elementos del array de 0 es :  50\n",
            "El numero de elementos del array de 1 es :  50\n",
            "[[0. 0. 0. 0. 0. 0. 0. 0. 0. 0. 0. 0. 0. 0. 0. 0. 0. 0. 0. 0. 0. 0. 0. 0.\n",
            "  0. 0. 0. 0. 0. 0. 0. 0. 0. 0. 0. 0. 0. 0. 0. 0. 0. 0. 0. 0. 0. 0. 0. 0.\n",
            "  0. 0.]\n",
            " [1. 1. 1. 1. 1. 1. 1. 1. 1. 1. 1. 1. 1. 1. 1. 1. 1. 1. 1. 1. 1. 1. 1. 1.\n",
            "  1. 1. 1. 1. 1. 1. 1. 1. 1. 1. 1. 1. 1. 1. 1. 1. 1. 1. 1. 1. 1. 1. 1. 1.\n",
            "  1. 1.]]\n"
          ]
        },
        {
          "output_type": "execute_result",
          "data": {
            "text/plain": [
              "'Por tanto nos damos cuenta de que nos ha generado dos arrays dentro de un array por tanto tenemos un array \\ndentro de este tenemos el primer array de 0 con '"
            ],
            "application/vnd.google.colaboratory.intrinsic+json": {
              "type": "string"
            }
          },
          "metadata": {},
          "execution_count": 18
        }
      ]
    },
    {
      "cell_type": "markdown",
      "source": [
        "### Tenemos varias formas de ver las propiedades la primera es con la funcino de tenemos un array como vatriable y le aplicamos el .shape"
      ],
      "metadata": {
        "id": "RL4ctDNxsMf1"
      }
    },
    {
      "cell_type": "code",
      "source": [
        "# Por tanto con la nomenclatura del punto podemos ver los metadatos ddel array y las funciones \n",
        "\n",
        "print(array2d.shape)\n",
        "\n",
        "'''Por tanto esto nos va a decir que es un array de dos dimensiones es decir contiene dos arrays a la vez con 50 elementos \n",
        "por cada subelemento de nuestro array al que aplicamos la propiedad shape '''"
      ],
      "metadata": {
        "colab": {
          "base_uri": "https://localhost:8080/",
          "height": 53
        },
        "id": "rgYwUTGnsWPI",
        "outputId": "759ab439-d11a-4f9d-cfd1-a5eefec99f0e"
      },
      "execution_count": null,
      "outputs": [
        {
          "output_type": "stream",
          "name": "stdout",
          "text": [
            "(2, 50)\n"
          ]
        },
        {
          "output_type": "execute_result",
          "data": {
            "text/plain": [
              "'Por tanto esto nos va a decir que es un array de dos dimensiones es decir contiene dos arrays a la vez con 50 elementos \\npor cada subelemento de nuestro array al que aplicamos la propiedad shape '"
            ],
            "application/vnd.google.colaboratory.intrinsic+json": {
              "type": "string"
            }
          },
          "metadata": {},
          "execution_count": 19
        }
      ]
    },
    {
      "cell_type": "markdown",
      "source": [
        "## 2.2 arrayVariableNuestra.size"
      ],
      "metadata": {
        "id": "1djo-iWqtJAs"
      }
    },
    {
      "cell_type": "code",
      "source": [
        "# Nos dice la cantidad de elementos que se encuentra en el array al que le aplicamos el metodo size el numero total de elementos \n",
        "# En nuestro ejemplo tenemos dos arrays como elementos y cada array tiene 50 elementos por tanto 50 + 50 = 100 elementos totales \n",
        "\n",
        "print(array2d.size)"
      ],
      "metadata": {
        "colab": {
          "base_uri": "https://localhost:8080/"
        },
        "id": "0eiLvv42tQTp",
        "outputId": "0c78982f-4466-4106-9bd4-1dea6522f725"
      },
      "execution_count": null,
      "outputs": [
        {
          "output_type": "stream",
          "name": "stdout",
          "text": [
            "100\n"
          ]
        }
      ]
    },
    {
      "cell_type": "markdown",
      "source": [
        "## 2.3 array.ndim"
      ],
      "metadata": {
        "id": "X4EbFEbAu6AK"
      }
    },
    {
      "cell_type": "code",
      "source": [
        "# Nos dice la cantidad de dimensiones que tiene un array es decir la cantidad de sublementos que posee ese array en nuestro ejemplo es 2\n",
        "\n",
        "print(array2d.ndim)"
      ],
      "metadata": {
        "colab": {
          "base_uri": "https://localhost:8080/"
        },
        "id": "hEUQNHOZu-QI",
        "outputId": "e0469b56-0d84-412b-ea99-060516900917"
      },
      "execution_count": null,
      "outputs": [
        {
          "output_type": "stream",
          "name": "stdout",
          "text": [
            "2\n"
          ]
        }
      ]
    },
    {
      "cell_type": "markdown",
      "source": [
        "# Operaciones con Arrays "
      ],
      "metadata": {
        "id": "AsIm1-jEvhmx"
      }
    },
    {
      "cell_type": "code",
      "source": [
        "# Para hacer operaciones matriciales que es el potencial de esta libreria consiste en operar los distintos elementos de la primera matriz con la segunda matriz o asi con multiples matrices \n",
        "\n",
        "# Por lo tanto hacemos dos listas en Python para luego posteriormente convertirlas en Numpy Arrays con la funcion np.arrays()\n",
        "\n",
        "lista_uno = [1, 2, 3]\n",
        "\n",
        "lista_dos = [4, 5, 6]\n",
        "\n"
      ],
      "metadata": {
        "id": "SZcqEtb5vk6W"
      },
      "execution_count": null,
      "outputs": []
    },
    {
      "cell_type": "code",
      "source": [
        "# ahora procedemos a crear los numpys arrays con la funcion np.array() y guardarlas en dos variables independientes\n",
        "\n",
        "array_np_uno = np.array(lista_uno)\n",
        "array_np_dos = np.array(lista_dos)\n",
        "\n"
      ],
      "metadata": {
        "id": "w919f-stwM9r"
      },
      "execution_count": null,
      "outputs": []
    },
    {
      "cell_type": "code",
      "source": [
        "# Bien debido a que Python no sporta operaciones con listas por eso llego numpy Arrays que nos permite hacer estas cosas \n",
        "'''Bien tambien nos damos cuenta que al operar esas dos listas \n",
        "las opera en forma de columna es decir el primer elemento de cada lista con el segundo elemento de cada lista \n",
        "y asi sucesivamente de forma que si multiplicamos la primera y la segunda lista \n",
        "por tanto nso devolvera un array unidemensional con el resultado que sera [4, 10, 18]'''\n",
        "\n",
        "'''Haora bien si nosotrso queremos operar esto sin la libreria con puro python \n",
        "es mas complejo dado que sintatacticamente es bonito pero es demasiado farragoso \n",
        "recordemos que esto es una operacion sencilla y nos quedaria de la siguiente manera\n",
        "aparte de tener que utilizar una funcion extra y por supuesto un for loop\n",
        "\n",
        "[num1*num2 for num1, num2 in zip(lista_uno, lista_dos) ]'''\n",
        "\n",
        "resultado_operaciones = array_np_uno * array_np_dos\n",
        "\n",
        "print(f\"El resultado de la operacion de [(1*4), (2*5), (3*6)] :  {resultado_operaciones}\")\n",
        "\n",
        "resultado_operacion_puro_paja_python = [num1*num2 for num1, num2 in zip(lista_uno, lista_dos)]\n",
        "\n",
        "print(f\"SIn la libreria de los numpy arrays seria de forma con el python original : {resultado_operacion_puro_paja_python}\")"
      ],
      "metadata": {
        "colab": {
          "base_uri": "https://localhost:8080/"
        },
        "id": "5oEQLIVIxuez",
        "outputId": "82a49dbe-138b-409d-b762-98449cd4ecaa"
      },
      "execution_count": null,
      "outputs": [
        {
          "output_type": "stream",
          "name": "stdout",
          "text": [
            "El resultado de la operacion de [(1*4), (2*5), (3*6)] :  [ 4 10 18]\n",
            "SIn la libreria de los numpy arrays seria de forma con el python original : [4, 10, 18]\n"
          ]
        }
      ]
    },
    {
      "cell_type": "markdown",
      "source": [
        "# 3. Funciones interesantes de los numpy Arrays "
      ],
      "metadata": {
        "id": "5WVo4t3d1JXc"
      }
    },
    {
      "cell_type": "markdown",
      "source": [
        "## 3.1 np.reshape()"
      ],
      "metadata": {
        "id": "FzxF6Qkw1S3s"
      }
    },
    {
      "cell_type": "code",
      "source": [
        "# Esta funcino nos permite redfinir la forma que tiene nuestro array cuando nos referimos a redefinir nos referimos a la forma que va a tener \n",
        "# Por ejemplo en nuestro caso con el array Bidimensional tiene una forma dos porque es un array que dentro contiene 2 subelementos es decir dos arrays dentro\n",
        "# Por tanto esta funcion va a tener dos parametros el primero es el array que queremos redefinir y el segundo va a ser una tupla que va a contener dos elementos \n",
        "# El pirmero de los dos elemntos va a ser la forma por ejemplo a un array de 1 dimension y el segundo elemento va a ser el numero de elementos que va a contener que va a ser la suma de los dos subarrays\n",
        "\n",
        "unidimensionalidad_redefinida = np.reshape(array2d, (1, array2d.size))\n",
        "\n",
        "print(f\"Por tanto el nuevo array redefinido quedara asi : {unidimensionalidad_redefinida}\")\n",
        "print(f\"la longitud de ese array es : {unidimensionalidad_redefinida.size}\")\n",
        "\n",
        "# Podemos tambien hacer que ese mismo array tenga 5 dimensiones es decir 5 subarrays dentro de el con la misma funcion e indicarle el numero de elementos por subarray que queramos \n",
        "\n",
        "pentadimensionalidad_redefinida = np.reshape(array2d, (5, 20))\n",
        "\n",
        "# Otro punto importante es que cuando lo redefinimos y le decimos la cantidad de elementos que tienen que tener nuestros subarrays este tiene que ser divisible por la cantidad total de elementos \n",
        "# que se encontraba en el array original \n",
        "# Como en el primer ejemplo array original numero de elementos 100 y la cantidad de elementos del nuevo array redimensionado 100 por tanto 100 / 100 = 1 es divisible por tanto correcto ademas nos indica el numero de dimensiones que tiene\n",
        "# En el segundo ejemplo array original numero de elementos 100 y la cantidad de elementos del nuevo array redimensionado 20 por tanto 100 / 20 = 5 es divisible por tanto correcto ademas nos indica el numero de dimensiones que tiene\n",
        "\n",
        "print(f\"El nuevo array Pentadimensional quedaria asi : {pentadimensionalidad_redefinida}\")"
      ],
      "metadata": {
        "colab": {
          "base_uri": "https://localhost:8080/"
        },
        "id": "V12vINtQ1V0Q",
        "outputId": "faac6ce4-95ff-43a8-ca8a-7cf3edc38e20"
      },
      "execution_count": null,
      "outputs": [
        {
          "output_type": "stream",
          "name": "stdout",
          "text": [
            "Por tanto el nuevo array redefinido quedara asi : [[0. 0. 0. 0. 0. 0. 0. 0. 0. 0. 0. 0. 0. 0. 0. 0. 0. 0. 0. 0. 0. 0. 0. 0.\n",
            "  0. 0. 0. 0. 0. 0. 0. 0. 0. 0. 0. 0. 0. 0. 0. 0. 0. 0. 0. 0. 0. 0. 0. 0.\n",
            "  0. 0. 1. 1. 1. 1. 1. 1. 1. 1. 1. 1. 1. 1. 1. 1. 1. 1. 1. 1. 1. 1. 1. 1.\n",
            "  1. 1. 1. 1. 1. 1. 1. 1. 1. 1. 1. 1. 1. 1. 1. 1. 1. 1. 1. 1. 1. 1. 1. 1.\n",
            "  1. 1. 1. 1.]]\n",
            "la longitud de ese array es : 100\n",
            "El nuevo array Pentadimensional quedaria asi : [[0. 0. 0. 0. 0. 0. 0. 0. 0. 0. 0. 0. 0. 0. 0. 0. 0. 0. 0. 0.]\n",
            " [0. 0. 0. 0. 0. 0. 0. 0. 0. 0. 0. 0. 0. 0. 0. 0. 0. 0. 0. 0.]\n",
            " [0. 0. 0. 0. 0. 0. 0. 0. 0. 0. 1. 1. 1. 1. 1. 1. 1. 1. 1. 1.]\n",
            " [1. 1. 1. 1. 1. 1. 1. 1. 1. 1. 1. 1. 1. 1. 1. 1. 1. 1. 1. 1.]\n",
            " [1. 1. 1. 1. 1. 1. 1. 1. 1. 1. 1. 1. 1. 1. 1. 1. 1. 1. 1. 1.]]\n"
          ]
        }
      ]
    },
    {
      "cell_type": "markdown",
      "source": [
        "## 3.2 ArrayVariable.T de transpose"
      ],
      "metadata": {
        "id": "l8hfOj7m4fLT"
      }
    },
    {
      "cell_type": "code",
      "source": [
        "# Lo que hace es transformar las dimensiones verticales por las horizontales y viceversa \n",
        "# Con un array unidimensional esto no tebdra efecto dado que es una sola dimension por tanto no podemos hacer el Transpose correctamente \n",
        "# Pero cambia los valores de estas dimensiones expongamos el siguiente ejemplo\n",
        "# Imaginemos que tenemos una matriz bidimensional con 5 elementos es decir con una forma de shape (2 dimensiones, 5 elementos)\n",
        "# Por tanto imaginemos que el eje vertical es el de las dos dimensiones y el eje horizontal el numero de elementos por cada dimension que es 5 \n",
        "# Pues con la funcion Transpose nos va generar una matriz de 5 dimensiones en el eje vertical con 2 elementos en el eje horizontal \n",
        "\n",
        "bidimensionalidad = np.array([[1, 2, 3, 4, 5], [10, 20, 30, 40, 50]])\n",
        "\n",
        "print(f\"La matriz original queda asi : {bidimensionalidad}\")\n",
        "\n",
        "print(f\"La forma de la matriz original es : {bidimensionalidad.shape}\")\n",
        "\n",
        "print(f\"La matriz redimensionada con 5 dimensiones o subarray en el eje vertical y 2 elementos por dimension en el eje horizontal queda de la siguinte : {bidimensionalidad.T}\")\n",
        "\n",
        "print(f\"La nueva forma de la matriz es : {bidimensionalidad.T.shape}\")"
      ],
      "metadata": {
        "colab": {
          "base_uri": "https://localhost:8080/"
        },
        "id": "EeoHJ1L74sYb",
        "outputId": "19ff6250-0934-41ed-891b-c556baadb84a"
      },
      "execution_count": null,
      "outputs": [
        {
          "output_type": "stream",
          "name": "stdout",
          "text": [
            "La matriz original queda asi : [[ 1  2  3  4  5]\n",
            " [10 20 30 40 50]]\n",
            "La forma de la matriz original es : (2, 5)\n",
            "La matriz redimensionada con 5 dimensiones o subarray en el eje vertical y 2 elementos por dimension en el eje horizontal queda de la siguinte : [[ 1 10]\n",
            " [ 2 20]\n",
            " [ 3 30]\n",
            " [ 4 40]\n",
            " [ 5 50]]\n",
            "La nueva forma de la matriz es : (5, 2)\n"
          ]
        }
      ]
    },
    {
      "cell_type": "markdown",
      "source": [
        "## 3.3 np.random"
      ],
      "metadata": {
        "id": "m1aaaW358t0v"
      }
    },
    {
      "cell_type": "markdown",
      "source": [
        "### 3.3.1 np.random.randint"
      ],
      "metadata": {
        "id": "9fUNSlW9802R"
      }
    },
    {
      "cell_type": "code",
      "source": [
        "# Esta funcion se llama directamente de la libreria con la funcion.random.randint genera un numero aleatorio entre dos intervalos que nosotros que le digamos y lo genera cada vez que ejecutamos la funcion \n",
        "\n",
        "array_aletorios = []\n",
        "\n",
        "#pruba = np.array([4,5,6])\n",
        "\n",
        "for i in range(300):\n",
        "  array_aletorios.append(np.random.randint(0,300))\n",
        "\n",
        "numpy_array_aleatorios = np.array(array_aletorios)\n",
        "\n",
        "#print(f\"La matriz original  es : {array_aletorios}\")\n",
        "\n",
        "print(f\"La forma original de la matriz es : {numpy_array_aleatorios.shape}\")\n",
        "\n",
        "#print(f\"Pruba : {pruba.shape}\")\n",
        "\n",
        "reddfinido = np.reshape(numpy_array_aleatorios, (30, 10))\n",
        "\n",
        "print(f\"Le hacmeos un Transpose para que quede en el eje vetical 5 dimensione y el eje horizontal 2 elementos por dimension que son : {reddfinido.T}\")\n",
        "\n",
        "print(f\"Le hacmeos un Transpose para que quede en el eje vetical 5 dimensione y el eje horizontal 2 elementos por dimension que son : {reddfinido.T.shape}\")"
      ],
      "metadata": {
        "colab": {
          "base_uri": "https://localhost:8080/"
        },
        "id": "qONegG3l84KN",
        "outputId": "a5ad5d28-7cb0-4d50-e038-d63f79fc7016"
      },
      "execution_count": null,
      "outputs": [
        {
          "output_type": "stream",
          "name": "stdout",
          "text": [
            "La forma original de la matriz es : (300,)\n",
            "Le hacmeos un Transpose para que quede en el eje vetical 5 dimensione y el eje horizontal 2 elementos por dimension que son : [[ 31 200  86 131  16 193 274 102 111 170  63 207 226 153 277 106  45 294\n",
            "   78 116   3  68 155 210 102 126 144 297 165 112]\n",
            " [241 162 135 264 246 285 183 115 257 250 151 281 175 160 200  48  75 180\n",
            "  168 295 154 230  64  31 213  88  17  39   1  66]\n",
            " [ 78 175 274 215 143 115 129 213  38 199 193 151 118 100 138  79 287  43\n",
            "   51  28 285 261  14 236  65 221 167 223  70 124]\n",
            " [ 51   6 196 166 172  78  67 199 245  50 270 198 134 266 282  79 135 206\n",
            "   84 200 254 203 279 286 210 231   8 102 280 269]\n",
            " [ 58 124 217  50  78  85 165 124 252 131   1 108 199  91 273 297 132 259\n",
            "  176 136 118  77 128 279 248  21  67 119 138 114]\n",
            " [168 214 166 184 225 150  84 137 165 264 253 205 251 281 202 275  16  26\n",
            "  204 206 153  81 109 184 146 279 268 224  22 247]\n",
            " [246 222  43 229  84 107  29 165 256  87 248 128 293   2 124 292 278 231\n",
            "   55  81 286  71 179 279 247  41 298 101 105 116]\n",
            " [151 136 284  48 102 234 167 112 295   7  57  16 291  78 217 289 213 233\n",
            "  158  99 219 123   1 164 182 122 226 279 203 244]\n",
            " [195 163 149 202 295 107 267  80  35 276 296 125 226 224 145  44 229  74\n",
            "  296  47 106  58 186 223  77 205  55  77 241  34]\n",
            " [ 82 245 142  58  59 187 121 135 289  68  17  10 243  72  92 162   9 214\n",
            "   37 151 197 169  65 149 162 256  14 213 296 235]]\n",
            "Le hacmeos un Transpose para que quede en el eje vetical 5 dimensione y el eje horizontal 2 elementos por dimension que son : (10, 30)\n"
          ]
        }
      ]
    },
    {
      "cell_type": "markdown",
      "source": [
        "## 3.4 np.where"
      ],
      "metadata": {
        "id": "opG5l_vdLV5r"
      }
    },
    {
      "cell_type": "code",
      "source": [
        "# Como su propio nombre indica el where es para establecer una condicion y el metodo es propio de numpy y tiene 3 parametros \n",
        "# Estos tres parametros son el primero es nuestro array objetivo al que le establecemos una condicion, el segundo parametro es si esa condicion es verdadera que hacemos \n",
        "# y el tercer parametro es si esa condicion es falsa que tenemos que hacer\n",
        "\n",
        "# Por tanto en nuestro array bidimensional de 0 y 1s le decimos que cuando encuentre 1 nos lo multiple por 10 y cuando no que le reste 5\n",
        "\n",
        "'''Por tanto ha ido recorriendo la coleccion cuando se encontraba cero o 0 al no cumplir \n",
        "la condicion le resto 5 quedando - 5 y cuando se encontro 1 lo multiplico por 10 porque se cumplia la condicion\n",
        "de que el elemento fuera igual a 1, tambien puede ser que los dejes igual cuando no cumple la condicion o que no haga nada '''\n",
        "\n",
        "np.where(array2d == 1, array2d * 10, array2d - 5)"
      ],
      "metadata": {
        "colab": {
          "base_uri": "https://localhost:8080/"
        },
        "id": "8nFf8rJ_LYYu",
        "outputId": "94112214-6790-4add-af08-65fd84174d67"
      },
      "execution_count": null,
      "outputs": [
        {
          "output_type": "execute_result",
          "data": {
            "text/plain": [
              "array([[-5., -5., -5., -5., -5., -5., -5., -5., -5., -5., -5., -5., -5.,\n",
              "        -5., -5., -5., -5., -5., -5., -5., -5., -5., -5., -5., -5., -5.,\n",
              "        -5., -5., -5., -5., -5., -5., -5., -5., -5., -5., -5., -5., -5.,\n",
              "        -5., -5., -5., -5., -5., -5., -5., -5., -5., -5., -5.],\n",
              "       [10., 10., 10., 10., 10., 10., 10., 10., 10., 10., 10., 10., 10.,\n",
              "        10., 10., 10., 10., 10., 10., 10., 10., 10., 10., 10., 10., 10.,\n",
              "        10., 10., 10., 10., 10., 10., 10., 10., 10., 10., 10., 10., 10.,\n",
              "        10., 10., 10., 10., 10., 10., 10., 10., 10., 10., 10.]])"
            ]
          },
          "metadata": {},
          "execution_count": 54
        }
      ]
    },
    {
      "cell_type": "markdown",
      "source": [
        "# 4. Estadistica "
      ],
      "metadata": {
        "id": "Wtlc-8oaUWkM"
      }
    },
    {
      "cell_type": "markdown",
      "source": [
        "## 4.1 Distribuciones "
      ],
      "metadata": {
        "id": "FRfOjsEDU8v8"
      }
    },
    {
      "cell_type": "markdown",
      "source": [
        "### 4.1.1 Distribucion Normal "
      ],
      "metadata": {
        "id": "uNk1z229VAnq"
      }
    },
    {
      "cell_type": "code",
      "source": [
        "# vamos ha hacer una distribucion normal que es la tipica de un grupo de 1000 personas por ejemplo la mayoria de la gente se encontrara entre la media y a medida que vayamos \n",
        "# a los extremos la distribucion de las personas se alejara \n",
        "\n",
        "# Por lo que la funcion nomral de random nos va a generar un array o conjunto de datos que tendra una serie de parametros en concreto tres \n",
        "# El primer parametro representa la media de los valores de esa distribucion\n",
        "# El segundo parametro representa la desviacion que puede tomar cada valor de la distribucion es decir cuanto se puede alejar cada valor de la distribucion \n",
        "# El tercero representa la cantidad de datos totales que hay en la distribucion \n",
        "\n",
        "arrray_distribucion_normal = np.random.normal(1.75, 0.05, 1000)\n",
        "\n",
        "print(f\"Nuestro array de dsitribucion normal es : {arrray_distribucion_normal}\")"
      ],
      "metadata": {
        "colab": {
          "base_uri": "https://localhost:8080/"
        },
        "id": "TwmGM1X9VE3P",
        "outputId": "f0bde4d2-0624-4041-cd1a-ca80e05b505b"
      },
      "execution_count": null,
      "outputs": [
        {
          "output_type": "stream",
          "name": "stdout",
          "text": [
            "Nuestro array de dsitribucion normal es : [1.7817168  1.81826054 1.78791197 1.71381972 1.76379301 1.77421819\n",
            " 1.71260612 1.70680577 1.69471299 1.73156965 1.7560092  1.67135525\n",
            " 1.77215346 1.70425714 1.68468784 1.70638426 1.75344953 1.69846986\n",
            " 1.76221519 1.74260762 1.71937504 1.65141001 1.7841402  1.74992003\n",
            " 1.86335994 1.6346813  1.76473897 1.77624416 1.69539019 1.78719459\n",
            " 1.75174285 1.68902494 1.73461473 1.67629734 1.63782837 1.77521585\n",
            " 1.72428962 1.71699568 1.68201802 1.80495994 1.75732151 1.77410969\n",
            " 1.72449716 1.70919239 1.77923887 1.78038538 1.8053292  1.8222832\n",
            " 1.81518876 1.74355686 1.84238776 1.7824656  1.73461728 1.71756863\n",
            " 1.73434667 1.81444552 1.78169211 1.74712212 1.72787492 1.7194139\n",
            " 1.76709895 1.71357043 1.73664461 1.75499289 1.69022829 1.70270757\n",
            " 1.72768404 1.7398403  1.73921391 1.69880492 1.73404089 1.73078045\n",
            " 1.75872968 1.68559834 1.7951982  1.72672307 1.82006359 1.74422464\n",
            " 1.78619002 1.70713926 1.73278843 1.67828598 1.80857455 1.79317771\n",
            " 1.78362591 1.76241115 1.77871083 1.72838525 1.64093847 1.80268446\n",
            " 1.79517269 1.73304189 1.79248568 1.66406049 1.73827227 1.75702781\n",
            " 1.79349186 1.78834274 1.76505525 1.76849429 1.81705344 1.76202513\n",
            " 1.73600241 1.76752433 1.69906985 1.77337572 1.68781189 1.74934618\n",
            " 1.76179257 1.74071371 1.87179517 1.68442537 1.73275603 1.74179627\n",
            " 1.80419719 1.68200041 1.79962088 1.77611637 1.71285632 1.76855981\n",
            " 1.86215926 1.71612736 1.75317746 1.80873261 1.85282889 1.81367313\n",
            " 1.75742989 1.81020178 1.73396629 1.75222764 1.78749671 1.76147867\n",
            " 1.76104259 1.78869688 1.75742409 1.73741874 1.76392241 1.79237003\n",
            " 1.67840426 1.63079902 1.77516199 1.78455196 1.75498066 1.85250372\n",
            " 1.79348008 1.88355133 1.72309806 1.76293334 1.77752223 1.77289243\n",
            " 1.74497439 1.79123172 1.7527906  1.75385339 1.84917248 1.69076253\n",
            " 1.774841   1.7529877  1.69543447 1.72236958 1.7428485  1.70411579\n",
            " 1.70783491 1.78467353 1.75999097 1.78469846 1.83413003 1.6734631\n",
            " 1.68791041 1.79969113 1.66683583 1.6535974  1.73074688 1.70317716\n",
            " 1.64050611 1.69830376 1.77949091 1.73760792 1.68372748 1.68953542\n",
            " 1.78790066 1.75836306 1.64317523 1.72871254 1.64540919 1.72792848\n",
            " 1.71992414 1.8343856  1.78385054 1.71569649 1.70027924 1.73652032\n",
            " 1.76148576 1.74883799 1.69229539 1.70717666 1.76634014 1.8369828\n",
            " 1.7513296  1.71656519 1.69445415 1.81740419 1.75630295 1.77058168\n",
            " 1.77604859 1.70927962 1.75246394 1.79053344 1.73397677 1.74925889\n",
            " 1.7392592  1.84396074 1.78193385 1.73661257 1.70601917 1.78907154\n",
            " 1.69156315 1.6936742  1.75079669 1.75760984 1.78417856 1.87482415\n",
            " 1.75867306 1.73641699 1.71063878 1.72066568 1.7150422  1.76250178\n",
            " 1.83677004 1.77989794 1.65165019 1.83020939 1.77244075 1.80042142\n",
            " 1.71105672 1.82186617 1.7372571  1.72738555 1.73545656 1.75961914\n",
            " 1.67968225 1.75317829 1.82725343 1.7713025  1.77188493 1.65791064\n",
            " 1.78423804 1.80656654 1.71701721 1.74013853 1.67603633 1.74222082\n",
            " 1.72748913 1.69922999 1.7862816  1.75545488 1.78799232 1.78296529\n",
            " 1.87222531 1.7098917  1.79605491 1.70751517 1.74239004 1.76074301\n",
            " 1.77045309 1.78153231 1.74198205 1.66785305 1.78798724 1.76671974\n",
            " 1.7547341  1.74378344 1.68664276 1.74552019 1.80288816 1.73687957\n",
            " 1.72965592 1.73710087 1.6915969  1.74082432 1.71036201 1.76504729\n",
            " 1.75624178 1.75658063 1.62452299 1.8307955  1.75518644 1.79732583\n",
            " 1.80796407 1.68801132 1.76009835 1.78480622 1.67892704 1.68485594\n",
            " 1.81976854 1.84369749 1.77103451 1.75243676 1.71696532 1.8205367\n",
            " 1.79283376 1.74981321 1.75271902 1.75071322 1.75616713 1.76564777\n",
            " 1.73185168 1.78639893 1.76720709 1.7772017  1.67544745 1.77653488\n",
            " 1.81687682 1.70233128 1.75616913 1.82319815 1.69763315 1.73231286\n",
            " 1.6887157  1.71088897 1.7685947  1.63411523 1.74376839 1.74975538\n",
            " 1.71963093 1.7382719  1.78638549 1.74494811 1.87679085 1.68881868\n",
            " 1.84972809 1.68065094 1.70245859 1.69035369 1.71477111 1.76506532\n",
            " 1.69893674 1.78397557 1.77640501 1.61624123 1.78079994 1.6459958\n",
            " 1.81211413 1.70339299 1.79240293 1.71520648 1.77731376 1.80524491\n",
            " 1.77966025 1.70322413 1.78211091 1.83775882 1.84125726 1.7625368\n",
            " 1.73607466 1.72779039 1.77405425 1.71457185 1.66044503 1.74678926\n",
            " 1.70002966 1.75804901 1.78863348 1.70733306 1.79439733 1.89107466\n",
            " 1.78270807 1.71830194 1.83141513 1.7850026  1.71366848 1.78241547\n",
            " 1.87315021 1.76480218 1.80058865 1.77495737 1.73194694 1.76872684\n",
            " 1.80023245 1.77181796 1.7837977  1.66157436 1.83268566 1.74704228\n",
            " 1.90761384 1.79597925 1.77783579 1.80743341 1.76082178 1.76431861\n",
            " 1.74529213 1.77908835 1.70204019 1.7916781  1.77398874 1.78267844\n",
            " 1.73622967 1.83526219 1.74959765 1.66744909 1.79007154 1.61387808\n",
            " 1.73554441 1.77407567 1.69108567 1.62168356 1.69742631 1.75195485\n",
            " 1.75095183 1.77906866 1.72523254 1.71498783 1.78576582 1.74962397\n",
            " 1.70648668 1.77656326 1.7564729  1.74441114 1.80988318 1.83171482\n",
            " 1.67808572 1.6989329  1.75141095 1.65458993 1.81100645 1.78383724\n",
            " 1.72652224 1.77763658 1.73853362 1.71645975 1.72635234 1.78956102\n",
            " 1.68719733 1.71678642 1.71807794 1.8075964  1.74490853 1.76444881\n",
            " 1.7442418  1.84376246 1.73959668 1.73096632 1.7582471  1.72426947\n",
            " 1.74626328 1.89684414 1.73322871 1.75982111 1.84257079 1.78080643\n",
            " 1.74423408 1.77025255 1.6898613  1.68605322 1.74174661 1.62783543\n",
            " 1.72490481 1.71767896 1.78739534 1.72561462 1.74441661 1.8561604\n",
            " 1.71462055 1.73395858 1.83073693 1.70230811 1.7655782  1.74862589\n",
            " 1.71454822 1.78765986 1.768858   1.73793293 1.73863617 1.77036426\n",
            " 1.76134483 1.78656545 1.83715469 1.82187774 1.77139926 1.62164337\n",
            " 1.71771255 1.89192321 1.65948596 1.71883273 1.75753201 1.7460637\n",
            " 1.73940405 1.75237094 1.69639267 1.78636474 1.7462077  1.6925309\n",
            " 1.79613151 1.65008739 1.79666135 1.74668911 1.76242785 1.74397971\n",
            " 1.72994496 1.82424661 1.71468522 1.73813444 1.75252887 1.67491425\n",
            " 1.79693966 1.73080902 1.80947388 1.81048375 1.69486284 1.8026031\n",
            " 1.77245255 1.70803991 1.74876827 1.69755064 1.76572969 1.76181802\n",
            " 1.79028141 1.78414243 1.73538474 1.79010765 1.76424682 1.77597632\n",
            " 1.78871648 1.81059903 1.8422465  1.75179347 1.76022162 1.716547\n",
            " 1.74766504 1.72953498 1.71115399 1.65438155 1.73940848 1.75351987\n",
            " 1.88437036 1.79007725 1.84981131 1.75849389 1.7743761  1.67730291\n",
            " 1.74081918 1.6836008  1.7550087  1.68033874 1.71708983 1.78648853\n",
            " 1.76102758 1.75272504 1.82988051 1.77900092 1.77021848 1.67559003\n",
            " 1.73104841 1.75695708 1.70817533 1.77324807 1.75507052 1.80319194\n",
            " 1.72598887 1.71537393 1.69490886 1.69010542 1.7973284  1.78714558\n",
            " 1.73501819 1.80071364 1.67178173 1.78397745 1.76833072 1.77850706\n",
            " 1.78988838 1.76377713 1.76144718 1.79101405 1.58128231 1.80714247\n",
            " 1.79384045 1.68022411 1.72677861 1.76649458 1.73287    1.6755728\n",
            " 1.69339246 1.73853234 1.73673672 1.75829081 1.60164139 1.69905742\n",
            " 1.72953986 1.71494868 1.73541294 1.7754567  1.73859667 1.73478508\n",
            " 1.72273838 1.75944273 1.69385774 1.77269781 1.73400352 1.77365704\n",
            " 1.71141605 1.61385282 1.73510205 1.82993649 1.75577448 1.81212977\n",
            " 1.6864281  1.66706676 1.76566359 1.58914693 1.76327608 1.66929773\n",
            " 1.70991607 1.80249171 1.81536408 1.74417108 1.78515222 1.72251603\n",
            " 1.741974   1.74540067 1.70333989 1.78310084 1.75796424 1.72667992\n",
            " 1.66076126 1.78034249 1.65921309 1.72869303 1.78631235 1.81060741\n",
            " 1.72851412 1.77536782 1.76480787 1.79273321 1.72527881 1.762154\n",
            " 1.83303436 1.79717747 1.71344018 1.70271599 1.75736898 1.78735375\n",
            " 1.7692175  1.80597665 1.79356487 1.82856483 1.7161389  1.83375317\n",
            " 1.75326226 1.71592938 1.67847216 1.70781349 1.85000376 1.75051554\n",
            " 1.8268037  1.73786849 1.70679511 1.80480142 1.69598841 1.77043933\n",
            " 1.70649033 1.75674381 1.7192435  1.72526818 1.65524143 1.83530762\n",
            " 1.70967657 1.76130744 1.73455992 1.7523757  1.76342795 1.70117939\n",
            " 1.83839451 1.80544301 1.79439374 1.72024476 1.81987956 1.73018756\n",
            " 1.8166308  1.78911931 1.77310894 1.77127041 1.72808576 1.78898824\n",
            " 1.80850598 1.76204327 1.77614444 1.72441274 1.67235771 1.73590929\n",
            " 1.77998479 1.82205265 1.78242037 1.80250283 1.79716068 1.77527485\n",
            " 1.76394212 1.65533411 1.70974486 1.79517798 1.74401121 1.70999927\n",
            " 1.74901617 1.68197424 1.74400875 1.80555652 1.79136378 1.72695252\n",
            " 1.83658678 1.75969505 1.73916045 1.74398025 1.71829986 1.68029006\n",
            " 1.73492118 1.73400877 1.73810302 1.7738911  1.77374415 1.70893294\n",
            " 1.72431068 1.69206956 1.696322   1.66191426 1.73306904 1.71958505\n",
            " 1.78841757 1.84531564 1.76847685 1.80109471 1.83445971 1.73350047\n",
            " 1.73716149 1.71147292 1.67055898 1.708438   1.72834514 1.78432385\n",
            " 1.72827014 1.85406915 1.60122645 1.79868609 1.73932796 1.66393856\n",
            " 1.72939758 1.71987576 1.81138802 1.71217753 1.74850966 1.75449113\n",
            " 1.83975853 1.69894055 1.7480067  1.72794411 1.74156798 1.6832369\n",
            " 1.77470432 1.68170342 1.67719609 1.75181511 1.80031762 1.84136162\n",
            " 1.72279105 1.70944767 1.7730235  1.8214982  1.76181427 1.79121289\n",
            " 1.74509871 1.78029881 1.75640541 1.69666018 1.8365479  1.81873536\n",
            " 1.68474766 1.68833563 1.74380816 1.73869744 1.6489808  1.73647647\n",
            " 1.78788825 1.75449716 1.70164542 1.83448454 1.80350579 1.77368735\n",
            " 1.70676553 1.71176682 1.77430849 1.68266918 1.79957908 1.73692712\n",
            " 1.70143088 1.74608315 1.69030604 1.73043993 1.77747795 1.68959743\n",
            " 1.72884095 1.63671166 1.71908681 1.75034632 1.74051447 1.7805318\n",
            " 1.74264194 1.78327125 1.71307338 1.71143278 1.69048388 1.74161978\n",
            " 1.81768661 1.75554846 1.73826719 1.75558733 1.77299137 1.76577323\n",
            " 1.77142265 1.73864733 1.72873361 1.78925266 1.75002084 1.74889301\n",
            " 1.64531857 1.79482588 1.75357331 1.71931618 1.80690748 1.76664958\n",
            " 1.71772786 1.78550609 1.73175412 1.73804557 1.6636205  1.73279542\n",
            " 1.76562468 1.65356224 1.72705615 1.76143464 1.77678271 1.78247476\n",
            " 1.80955562 1.75269458 1.73996869 1.72720252 1.7994963  1.7154469\n",
            " 1.82518696 1.83497776 1.76861187 1.65731192 1.76006369 1.7946032\n",
            " 1.69040319 1.76464988 1.71424362 1.74262053 1.71828425 1.70591424\n",
            " 1.75144941 1.82948904 1.7555635  1.7752052  1.66529524 1.68416069\n",
            " 1.84859213 1.77133355 1.78460908 1.67686357 1.66396221 1.71936444\n",
            " 1.77486707 1.77779009 1.80239418 1.68125692 1.75452577 1.72153743\n",
            " 1.7901425  1.84686147 1.74230082 1.81623662 1.74755484 1.87311499\n",
            " 1.73821615 1.75428008 1.78742443 1.71057379 1.66157031 1.66646485\n",
            " 1.79344061 1.7152     1.67716827 1.72932792 1.72109738 1.70825354\n",
            " 1.80189945 1.69177549 1.74208381 1.76709333 1.77477034 1.85450042\n",
            " 1.73695528 1.86242572 1.72325161 1.73233905 1.77918598 1.74040023\n",
            " 1.74507946 1.71733318 1.79673307 1.71343797 1.83308169 1.77586649\n",
            " 1.73574804 1.74291484 1.81863257 1.78262127 1.79330699 1.74589327\n",
            " 1.71948145 1.72156144 1.8035541  1.7508054  1.83273968 1.76050557\n",
            " 1.70090563 1.71885436 1.68249809 1.76842681 1.76899471 1.71589933\n",
            " 1.73538898 1.69555183 1.712105   1.68810251 1.78187788 1.66988875\n",
            " 1.71555711 1.76541197 1.73583552 1.66378704 1.68145728 1.78895106\n",
            " 1.74939248 1.76021568 1.7234575  1.77704279 1.73783227 1.78853188\n",
            " 1.67790355 1.76662165 1.75422544 1.74561026 1.7706186  1.71153178\n",
            " 1.79616786 1.80364696 1.80152218 1.66505505 1.77223027 1.65804566\n",
            " 1.73995322 1.65493061 1.76298237 1.75391111 1.69636951 1.80759173\n",
            " 1.69669062 1.74990929 1.71961481 1.78084272 1.71502558 1.79807048\n",
            " 1.81057206 1.82484138 1.75345517 1.67707965 1.80528271 1.83697587\n",
            " 1.7322808  1.67266454 1.74258594 1.80707931 1.73095864 1.78522878\n",
            " 1.78260132 1.73338263 1.86822499 1.78899759 1.83743698 1.78664006\n",
            " 1.80016213 1.85122127 1.71370823 1.68402305 1.72117944 1.6175144\n",
            " 1.77234695 1.85487455 1.71402874 1.77278115]\n"
          ]
        }
      ]
    },
    {
      "cell_type": "markdown",
      "source": [
        "### 4.1.2 np.mean()"
      ],
      "metadata": {
        "id": "wIvFKkdEW1BW"
      }
    },
    {
      "cell_type": "code",
      "source": [
        "# Esta funcion nos calcula rapidamente cual es la media de altura de todo el conjunto de elementos de nuestro array que representa nuestra distribucion \n",
        "\n",
        "np.mean(arrray_distribucion_normal)"
      ],
      "metadata": {
        "colab": {
          "base_uri": "https://localhost:8080/"
        },
        "id": "T_OH0TOzWzXJ",
        "outputId": "1224086f-861f-427f-aeb2-e2ceb45bb816"
      },
      "execution_count": null,
      "outputs": [
        {
          "output_type": "execute_result",
          "data": {
            "text/plain": [
              "1.7498689541832588"
            ]
          },
          "metadata": {},
          "execution_count": 56
        }
      ]
    },
    {
      "cell_type": "markdown",
      "source": [
        "### 4.1.3 np.median()"
      ],
      "metadata": {
        "id": "TJBBQ0n0Xkgv"
      }
    },
    {
      "cell_type": "code",
      "source": [
        "# Sera el elemento que justo este a la mitad del total de datos de nuestra distribucion es decir si tenemos 1000 el elemento que esta en la media es 1000 / 2 = 500 sera ese pero esta \n",
        "# Funcion ademas ordena internamente los elementos previamente \n",
        "\n",
        "np.median(arrray_distribucion_normal)"
      ],
      "metadata": {
        "colab": {
          "base_uri": "https://localhost:8080/"
        },
        "id": "Po6JmoUkXm3X",
        "outputId": "a6a01feb-6c03-4084-815d-9d6553bde5c5"
      },
      "execution_count": null,
      "outputs": [
        {
          "output_type": "execute_result",
          "data": {
            "text/plain": [
              "1.7508010490909605"
            ]
          },
          "metadata": {},
          "execution_count": 57
        }
      ]
    },
    {
      "cell_type": "markdown",
      "source": [
        "### 4.1.4 np.(std)"
      ],
      "metadata": {
        "id": "0xDd3HiVYXXz"
      }
    },
    {
      "cell_type": "code",
      "source": [
        "# Esta propiedad o funcion nos devulve la desviacion es decir cuanto puede variar un elemento de nuestro conjunto de la distribucion cuanto de lejos puede darse respecto a le media u otros parametros\n",
        "\n",
        "np.std(arrray_distribucion_normal)"
      ],
      "metadata": {
        "colab": {
          "base_uri": "https://localhost:8080/"
        },
        "id": "DLpp6WtoYa7r",
        "outputId": "49543614-c12d-4442-e813-9fdc77fc4e56"
      },
      "execution_count": null,
      "outputs": [
        {
          "output_type": "execute_result",
          "data": {
            "text/plain": [
              "0.05052531897391376"
            ]
          },
          "metadata": {},
          "execution_count": 58
        }
      ]
    }
  ]
}