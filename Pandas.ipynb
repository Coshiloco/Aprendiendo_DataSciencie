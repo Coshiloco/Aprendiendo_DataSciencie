{
 "cells": [
  {
   "attachments": {},
   "cell_type": "markdown",
   "metadata": {},
   "source": [
    "# Entendiendo la libreria de Pandas "
   ]
  },
  {
   "cell_type": "code",
   "execution_count": 2,
   "metadata": {},
   "outputs": [],
   "source": [
    "# Importamos la libreria de pandas como ya hicimos con la de numpy\n",
    "import pandas as pd"
   ]
  },
  {
   "attachments": {},
   "cell_type": "markdown",
   "metadata": {},
   "source": [
    "## 1.1 Aprendiendo a crear los DataFrame"
   ]
  },
  {
   "attachments": {},
   "cell_type": "markdown",
   "metadata": {},
   "source": [
    "### 1.1.2 Creando un Dataframe importando archivo CSV"
   ]
  },
  {
   "attachments": {},
   "cell_type": "markdown",
   "metadata": {},
   "source": [
    "#### Para leer un archivo CSV que e sun archivo separado por comas utilizamos la funcion pd.read_csv(RutaArchivo)"
   ]
  },
  {
   "cell_type": "code",
   "execution_count": 3,
   "metadata": {},
   "outputs": [],
   "source": [
    "# Se asignan a variables los Dataframe como todo objeto en Python\n",
    "df = pd.read_csv('./mastermind-220421-143506(1).csv')"
   ]
  },
  {
   "cell_type": "code",
   "execution_count": 4,
   "metadata": {},
   "outputs": [
    {
     "data": {
      "text/html": [
       "<div>\n",
       "<style scoped>\n",
       "    .dataframe tbody tr th:only-of-type {\n",
       "        vertical-align: middle;\n",
       "    }\n",
       "\n",
       "    .dataframe tbody tr th {\n",
       "        vertical-align: top;\n",
       "    }\n",
       "\n",
       "    .dataframe thead th {\n",
       "        text-align: right;\n",
       "    }\n",
       "</style>\n",
       "<table border=\"1\" class=\"dataframe\">\n",
       "  <thead>\n",
       "    <tr style=\"text-align: right;\">\n",
       "      <th></th>\n",
       "      <th>Unnamed: 0</th>\n",
       "      <th>nombre</th>\n",
       "      <th>especialidad</th>\n",
       "      <th>edad</th>\n",
       "      <th>visitas</th>\n",
       "      <th>sexo</th>\n",
       "    </tr>\n",
       "  </thead>\n",
       "  <tbody>\n",
       "    <tr>\n",
       "      <th>0</th>\n",
       "      <td>0</td>\n",
       "      <td>SFDX Show</td>\n",
       "      <td>Hardware</td>\n",
       "      <td>30</td>\n",
       "      <td>130855</td>\n",
       "      <td>H</td>\n",
       "    </tr>\n",
       "    <tr>\n",
       "      <th>1</th>\n",
       "      <td>1</td>\n",
       "      <td>Sara Nogark</td>\n",
       "      <td>Edición de vídeo</td>\n",
       "      <td>29</td>\n",
       "      <td>114175</td>\n",
       "      <td>M</td>\n",
       "    </tr>\n",
       "    <tr>\n",
       "      <th>2</th>\n",
       "      <td>2</td>\n",
       "      <td>Nate Gentile</td>\n",
       "      <td>Programación</td>\n",
       "      <td>31</td>\n",
       "      <td>142545</td>\n",
       "      <td>H</td>\n",
       "    </tr>\n",
       "    <tr>\n",
       "      <th>3</th>\n",
       "      <td>3</td>\n",
       "      <td>Bettatech</td>\n",
       "      <td>Programación</td>\n",
       "      <td>31</td>\n",
       "      <td>149462</td>\n",
       "      <td>H</td>\n",
       "    </tr>\n",
       "    <tr>\n",
       "      <th>4</th>\n",
       "      <td>4</td>\n",
       "      <td>Antonio Sarosi</td>\n",
       "      <td>Sistemas Operativos</td>\n",
       "      <td>28</td>\n",
       "      <td>132008</td>\n",
       "      <td>H</td>\n",
       "    </tr>\n",
       "    <tr>\n",
       "      <th>5</th>\n",
       "      <td>5</td>\n",
       "      <td>Edgar Pons</td>\n",
       "      <td>Robótica</td>\n",
       "      <td>29</td>\n",
       "      <td>143620</td>\n",
       "      <td>H</td>\n",
       "    </tr>\n",
       "    <tr>\n",
       "      <th>6</th>\n",
       "      <td>6</td>\n",
       "      <td>s4vitar</td>\n",
       "      <td>Hacking</td>\n",
       "      <td>28</td>\n",
       "      <td>132567</td>\n",
       "      <td>H</td>\n",
       "    </tr>\n",
       "  </tbody>\n",
       "</table>\n",
       "</div>"
      ],
      "text/plain": [
       "   Unnamed: 0          nombre         especialidad  edad  visitas sexo\n",
       "0           0       SFDX Show             Hardware    30   130855    H\n",
       "1           1     Sara Nogark     Edición de vídeo    29   114175    M\n",
       "2           2    Nate Gentile         Programación    31   142545    H\n",
       "3           3       Bettatech         Programación    31   149462    H\n",
       "4           4  Antonio Sarosi  Sistemas Operativos    28   132008    H\n",
       "5           5      Edgar Pons             Robótica    29   143620    H\n",
       "6           6         s4vitar              Hacking    28   132567    H"
      ]
     },
     "execution_count": 4,
     "metadata": {},
     "output_type": "execute_result"
    }
   ],
   "source": [
    "# Lo imprimimos por consola para ver el formato que tiene\n",
    "'''Como vemos nos lo imprime en un formato de tabla es decir los datos que estan separados por comas\n",
    "en nuestro archivo csv pandas nos los saca en un formato de tabla es decir como si fuera una base de datos \n",
    "relacional pero vemos que hay un campo repetido y eso es porque no le hemos dicho a pandas que el indice \n",
    "de cada columna nos lo coga de un parametro del csv separado por comas que ya esta por lo que a la funcion \n",
    "de read_csv le tenemos que pasar un parametro para indicarselo dado que admite muchos parametros'''\n",
    "df"
   ]
  },
  {
   "cell_type": "code",
   "execution_count": 5,
   "metadata": {},
   "outputs": [
    {
     "name": "stdout",
     "output_type": "stream",
     "text": [
      "Tomando el indice el nombre de los campos del csv :                 Unnamed: 0         especialidad  edad  visitas sexo\n",
      "nombre                                                             \n",
      "SFDX Show                0             Hardware    30   130855    H\n",
      "Sara Nogark              1     Edición de vídeo    29   114175    M\n",
      "Nate Gentile             2         Programación    31   142545    H\n",
      "Bettatech                3         Programación    31   149462    H\n",
      "Antonio Sarosi           4  Sistemas Operativos    28   132008    H\n",
      "Edgar Pons               5             Robótica    29   143620    H\n",
      "s4vitar                  6              Hacking    28   132567    H\n",
      "Tomando el indice primero que corresponde con Unnamed de los campos del csv :            nombre         especialidad  edad  visitas sexo\n",
      "0       SFDX Show             Hardware    30   130855    H\n",
      "1     Sara Nogark     Edición de vídeo    29   114175    M\n",
      "2    Nate Gentile         Programación    31   142545    H\n",
      "3       Bettatech         Programación    31   149462    H\n",
      "4  Antonio Sarosi  Sistemas Operativos    28   132008    H\n",
      "5      Edgar Pons             Robótica    29   143620    H\n",
      "6         s4vitar              Hacking    28   132567    H\n"
     ]
    }
   ],
   "source": [
    "# Podemos hacer de dos formas el parametro que queremos que sea el indice de las dos columnas \n",
    "# el primero es pasandole a la funcion pd.read_csv(ruta, index_col='NombreColumnaIndice')\n",
    "# O bien indicandolo como si fuera una lista pd.read_csv(ruta, index_col=[indiceListaColumna])\n",
    "\n",
    "df = pd.read_csv('./mastermind-220421-143506(1).csv', index_col='nombre')\n",
    "\n",
    "print(f\"Tomando el indice el nombre de los campos del csv : {df}\")\n",
    "\n",
    "df = pd.read_csv('./mastermind-220421-143506(1).csv', index_col=[0])\n",
    "\n",
    "print(f\"Tomando el indice primero que corresponde con Unnamed de los campos del csv : {df}\")\n"
   ]
  },
  {
   "cell_type": "code",
   "execution_count": 6,
   "metadata": {},
   "outputs": [
    {
     "data": {
      "text/html": [
       "<div>\n",
       "<style scoped>\n",
       "    .dataframe tbody tr th:only-of-type {\n",
       "        vertical-align: middle;\n",
       "    }\n",
       "\n",
       "    .dataframe tbody tr th {\n",
       "        vertical-align: top;\n",
       "    }\n",
       "\n",
       "    .dataframe thead th {\n",
       "        text-align: right;\n",
       "    }\n",
       "</style>\n",
       "<table border=\"1\" class=\"dataframe\">\n",
       "  <thead>\n",
       "    <tr style=\"text-align: right;\">\n",
       "      <th></th>\n",
       "      <th>nombre</th>\n",
       "      <th>especialidad</th>\n",
       "      <th>edad</th>\n",
       "      <th>visitas</th>\n",
       "      <th>sexo</th>\n",
       "    </tr>\n",
       "  </thead>\n",
       "  <tbody>\n",
       "    <tr>\n",
       "      <th>0</th>\n",
       "      <td>SFDX Show</td>\n",
       "      <td>Hardware</td>\n",
       "      <td>30</td>\n",
       "      <td>130855</td>\n",
       "      <td>H</td>\n",
       "    </tr>\n",
       "    <tr>\n",
       "      <th>1</th>\n",
       "      <td>Sara Nogark</td>\n",
       "      <td>Edición de vídeo</td>\n",
       "      <td>29</td>\n",
       "      <td>114175</td>\n",
       "      <td>M</td>\n",
       "    </tr>\n",
       "    <tr>\n",
       "      <th>2</th>\n",
       "      <td>Nate Gentile</td>\n",
       "      <td>Programación</td>\n",
       "      <td>31</td>\n",
       "      <td>142545</td>\n",
       "      <td>H</td>\n",
       "    </tr>\n",
       "    <tr>\n",
       "      <th>3</th>\n",
       "      <td>Bettatech</td>\n",
       "      <td>Programación</td>\n",
       "      <td>31</td>\n",
       "      <td>149462</td>\n",
       "      <td>H</td>\n",
       "    </tr>\n",
       "    <tr>\n",
       "      <th>4</th>\n",
       "      <td>Antonio Sarosi</td>\n",
       "      <td>Sistemas Operativos</td>\n",
       "      <td>28</td>\n",
       "      <td>132008</td>\n",
       "      <td>H</td>\n",
       "    </tr>\n",
       "    <tr>\n",
       "      <th>5</th>\n",
       "      <td>Edgar Pons</td>\n",
       "      <td>Robótica</td>\n",
       "      <td>29</td>\n",
       "      <td>143620</td>\n",
       "      <td>H</td>\n",
       "    </tr>\n",
       "    <tr>\n",
       "      <th>6</th>\n",
       "      <td>s4vitar</td>\n",
       "      <td>Hacking</td>\n",
       "      <td>28</td>\n",
       "      <td>132567</td>\n",
       "      <td>H</td>\n",
       "    </tr>\n",
       "  </tbody>\n",
       "</table>\n",
       "</div>"
      ],
      "text/plain": [
       "           nombre         especialidad  edad  visitas sexo\n",
       "0       SFDX Show             Hardware    30   130855    H\n",
       "1     Sara Nogark     Edición de vídeo    29   114175    M\n",
       "2    Nate Gentile         Programación    31   142545    H\n",
       "3       Bettatech         Programación    31   149462    H\n",
       "4  Antonio Sarosi  Sistemas Operativos    28   132008    H\n",
       "5      Edgar Pons             Robótica    29   143620    H\n",
       "6         s4vitar              Hacking    28   132567    H"
      ]
     },
     "execution_count": 6,
     "metadata": {},
     "output_type": "execute_result"
    }
   ],
   "source": [
    "# Por tanto vamos a tomar la opcion de que el indice sea el primer elemento de los campos del csv\n",
    "\n",
    "df = pd.read_csv('./mastermind-220421-143506(1).csv', index_col=[0])\n",
    "\n",
    "df"
   ]
  },
  {
   "attachments": {},
   "cell_type": "markdown",
   "metadata": {},
   "source": [
    "#### Para entender lo que es un DataFrame es un conjunto de Pandas Series y estos son arrays de Numpy que tienen\n",
    "Un atributo que es el titulo de cada columna es decir por ejemplo especialidad y una serie de elementos de ese array \n",
    "asociados que son por ejemplo HardWare Edicion de Video Programacion etc..."
   ]
  },
  {
   "cell_type": "code",
   "execution_count": 7,
   "metadata": {},
   "outputs": [
    {
     "data": {
      "text/plain": [
       "0               Hardware\n",
       "1       Edición de vídeo\n",
       "2           Programación\n",
       "3           Programación\n",
       "4    Sistemas Operativos\n",
       "5               Robótica\n",
       "6                Hacking\n",
       "Name: especialidad, dtype: object"
      ]
     },
     "execution_count": 7,
     "metadata": {},
     "output_type": "execute_result"
    }
   ],
   "source": [
    "# Para entender esto como partimos que nuestro DataFrame es un objeto si queremos acceder a los \n",
    "# Elementos de nuestor titulo de Panda Series especialidad lo acemos con df['Especialidad u lo que sea']\n",
    "# Veamoslo\n",
    "\n",
    "'''Como vemos nos marca que es un objeto nos devuelve cada \n",
    "elemento con sus correspondientes indices \n",
    "por cada uno de estos elementos'''\n",
    "\n",
    "df['especialidad']"
   ]
  },
  {
   "cell_type": "code",
   "execution_count": 8,
   "metadata": {},
   "outputs": [
    {
     "data": {
      "text/plain": [
       "pandas.core.series.Series"
      ]
     },
     "execution_count": 8,
     "metadata": {},
     "output_type": "execute_result"
    }
   ],
   "source": [
    "# Bien si imprimos el tipo nos damos cuenta que \n",
    "\n",
    "'''Los pandas Series son numpy Arrays que estan modificados ligeramente \n",
    "para tener un nombre y un indice '''\n",
    "\n",
    "type(df['especialidad'])"
   ]
  },
  {
   "cell_type": "code",
   "execution_count": 9,
   "metadata": {},
   "outputs": [
    {
     "data": {
      "text/plain": [
       "'Hardware'"
      ]
     },
     "execution_count": 9,
     "metadata": {},
     "output_type": "execute_result"
    }
   ],
   "source": [
    "# Por ejemplo que si queremos acceder al elemento 0 de nuestra columna especialidad\n",
    "'''Vamos que nos imprime hardware como si se tratase porque lo es de una matriz bidimensional'''\n",
    "df['especialidad'][0]"
   ]
  }
 ],
 "metadata": {
  "kernelspec": {
   "display_name": "Python 3",
   "language": "python",
   "name": "python3"
  },
  "language_info": {
   "codemirror_mode": {
    "name": "ipython",
    "version": 3
   },
   "file_extension": ".py",
   "mimetype": "text/x-python",
   "name": "python",
   "nbconvert_exporter": "python",
   "pygments_lexer": "ipython3",
   "version": "3.10.4"
  },
  "orig_nbformat": 4,
  "vscode": {
   "interpreter": {
    "hash": "3ad933181bd8a04b432d3370b9dc3b0662ad032c4dfaa4e4f1596c548f763858"
   }
  }
 },
 "nbformat": 4,
 "nbformat_minor": 2
}
